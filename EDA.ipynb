{
 "cells": [
  {
   "cell_type": "code",
   "execution_count": 1,
   "metadata": {},
   "outputs": [],
   "source": [
    "import pandas as pd \n",
    "import numpy as np\n",
    "import matplotlib.pyplot as plt \n",
    "import seaborn as sns "
   ]
  },
  {
   "cell_type": "code",
   "execution_count": 2,
   "metadata": {},
   "outputs": [
    {
     "data": {
      "text/html": [
       "<div>\n",
       "<style scoped>\n",
       "    .dataframe tbody tr th:only-of-type {\n",
       "        vertical-align: middle;\n",
       "    }\n",
       "\n",
       "    .dataframe tbody tr th {\n",
       "        vertical-align: top;\n",
       "    }\n",
       "\n",
       "    .dataframe thead th {\n",
       "        text-align: right;\n",
       "    }\n",
       "</style>\n",
       "<table border=\"1\" class=\"dataframe\">\n",
       "  <thead>\n",
       "    <tr style=\"text-align: right;\">\n",
       "      <th></th>\n",
       "      <th>Unnamed: 0</th>\n",
       "      <th>company</th>\n",
       "      <th>job title</th>\n",
       "      <th>location</th>\n",
       "      <th>job description</th>\n",
       "      <th>salary estimate</th>\n",
       "      <th>company_size</th>\n",
       "      <th>company_type</th>\n",
       "      <th>company_sector</th>\n",
       "      <th>company_industry</th>\n",
       "      <th>...</th>\n",
       "      <th>rating</th>\n",
       "      <th>python_yn</th>\n",
       "      <th>spark_yn</th>\n",
       "      <th>azure_yn</th>\n",
       "      <th>aws_yn</th>\n",
       "      <th>excel_yn</th>\n",
       "      <th>machine_learning_yn</th>\n",
       "      <th>job_simpl</th>\n",
       "      <th>seniority</th>\n",
       "      <th>description_len</th>\n",
       "    </tr>\n",
       "  </thead>\n",
       "  <tbody>\n",
       "    <tr>\n",
       "      <th>0</th>\n",
       "      <td>0</td>\n",
       "      <td>Microsoft</td>\n",
       "      <td>Data &amp; Applied Scientist</td>\n",
       "      <td>Redmond, WA</td>\n",
       "      <td>Microsoft 365 is a key part of the company’s c...</td>\n",
       "      <td>123486.0</td>\n",
       "      <td>10000+ Employees</td>\n",
       "      <td>Company - Public</td>\n",
       "      <td>Information Technology</td>\n",
       "      <td>Computer Hardware Development</td>\n",
       "      <td>...</td>\n",
       "      <td>4.4</td>\n",
       "      <td>1</td>\n",
       "      <td>0</td>\n",
       "      <td>0</td>\n",
       "      <td>1</td>\n",
       "      <td>0</td>\n",
       "      <td>1</td>\n",
       "      <td>data scientist</td>\n",
       "      <td>junior</td>\n",
       "      <td>359</td>\n",
       "    </tr>\n",
       "    <tr>\n",
       "      <th>1</th>\n",
       "      <td>1</td>\n",
       "      <td>UT Southwestern Medical Center</td>\n",
       "      <td>Data Scientist or Bioinformatician (remote)</td>\n",
       "      <td>Remote</td>\n",
       "      <td>Center Information:\\nThe Quantitative Biomedic...</td>\n",
       "      <td>93500.0</td>\n",
       "      <td>10000+ Employees</td>\n",
       "      <td>Hospital</td>\n",
       "      <td>Healthcare</td>\n",
       "      <td>Health Care Services &amp; Hospitals</td>\n",
       "      <td>...</td>\n",
       "      <td>4.0</td>\n",
       "      <td>1</td>\n",
       "      <td>0</td>\n",
       "      <td>0</td>\n",
       "      <td>0</td>\n",
       "      <td>0</td>\n",
       "      <td>1</td>\n",
       "      <td>data scientist</td>\n",
       "      <td>na</td>\n",
       "      <td>267</td>\n",
       "    </tr>\n",
       "    <tr>\n",
       "      <th>2</th>\n",
       "      <td>2</td>\n",
       "      <td>Notion</td>\n",
       "      <td>Data Scientist, Growth</td>\n",
       "      <td>New York, NY</td>\n",
       "      <td>About Us:\\nWe're on a mission to make it possi...</td>\n",
       "      <td>137853.0</td>\n",
       "      <td>201 to 500 Employees</td>\n",
       "      <td>Company - Private</td>\n",
       "      <td>Information Technology</td>\n",
       "      <td>Enterprise Software &amp; Network Solutions</td>\n",
       "      <td>...</td>\n",
       "      <td>4.9</td>\n",
       "      <td>1</td>\n",
       "      <td>0</td>\n",
       "      <td>0</td>\n",
       "      <td>0</td>\n",
       "      <td>0</td>\n",
       "      <td>0</td>\n",
       "      <td>data scientist</td>\n",
       "      <td>Senior</td>\n",
       "      <td>589</td>\n",
       "    </tr>\n",
       "    <tr>\n",
       "      <th>3</th>\n",
       "      <td>3</td>\n",
       "      <td>Net2Aspire</td>\n",
       "      <td>Jr. Data Scientist</td>\n",
       "      <td>Remote</td>\n",
       "      <td> Apply Statistical and Machine Learning metho...</td>\n",
       "      <td>72500.0</td>\n",
       "      <td>Unknown</td>\n",
       "      <td>Company - Public</td>\n",
       "      <td>NaN</td>\n",
       "      <td>NaN</td>\n",
       "      <td>...</td>\n",
       "      <td>no rating</td>\n",
       "      <td>0</td>\n",
       "      <td>0</td>\n",
       "      <td>0</td>\n",
       "      <td>0</td>\n",
       "      <td>0</td>\n",
       "      <td>1</td>\n",
       "      <td>data scientist</td>\n",
       "      <td>junior</td>\n",
       "      <td>132</td>\n",
       "    </tr>\n",
       "    <tr>\n",
       "      <th>4</th>\n",
       "      <td>4</td>\n",
       "      <td>Ntropy Network</td>\n",
       "      <td>Data Scientist</td>\n",
       "      <td>Remote</td>\n",
       "      <td>Over the last few decades, technological innov...</td>\n",
       "      <td>155000.0</td>\n",
       "      <td>1 to 50 Employees</td>\n",
       "      <td>Company - Private</td>\n",
       "      <td>NaN</td>\n",
       "      <td>NaN</td>\n",
       "      <td>...</td>\n",
       "      <td>no rating</td>\n",
       "      <td>1</td>\n",
       "      <td>0</td>\n",
       "      <td>0</td>\n",
       "      <td>1</td>\n",
       "      <td>0</td>\n",
       "      <td>0</td>\n",
       "      <td>data scientist</td>\n",
       "      <td>na</td>\n",
       "      <td>522</td>\n",
       "    </tr>\n",
       "  </tbody>\n",
       "</table>\n",
       "<p>5 rows × 23 columns</p>\n",
       "</div>"
      ],
      "text/plain": [
       "   Unnamed: 0                         company  \\\n",
       "0           0                       Microsoft   \n",
       "1           1  UT Southwestern Medical Center   \n",
       "2           2                          Notion   \n",
       "3           3                      Net2Aspire   \n",
       "4           4                  Ntropy Network   \n",
       "\n",
       "                                     job title      location  \\\n",
       "0                     Data & Applied Scientist   Redmond, WA   \n",
       "1  Data Scientist or Bioinformatician (remote)        Remote   \n",
       "2                       Data Scientist, Growth  New York, NY   \n",
       "3                           Jr. Data Scientist        Remote   \n",
       "4                               Data Scientist        Remote   \n",
       "\n",
       "                                     job description  salary estimate  \\\n",
       "0  Microsoft 365 is a key part of the company’s c...         123486.0   \n",
       "1  Center Information:\\nThe Quantitative Biomedic...          93500.0   \n",
       "2  About Us:\\nWe're on a mission to make it possi...         137853.0   \n",
       "3   Apply Statistical and Machine Learning metho...          72500.0   \n",
       "4  Over the last few decades, technological innov...         155000.0   \n",
       "\n",
       "           company_size       company_type          company_sector  \\\n",
       "0      10000+ Employees   Company - Public  Information Technology   \n",
       "1      10000+ Employees           Hospital              Healthcare   \n",
       "2  201 to 500 Employees  Company - Private  Information Technology   \n",
       "3               Unknown   Company - Public                     NaN   \n",
       "4     1 to 50 Employees  Company - Private                     NaN   \n",
       "\n",
       "                          company_industry  ...     rating python_yn  \\\n",
       "0            Computer Hardware Development  ...        4.4         1   \n",
       "1         Health Care Services & Hospitals  ...        4.0         1   \n",
       "2  Enterprise Software & Network Solutions  ...        4.9         1   \n",
       "3                                      NaN  ...  no rating         0   \n",
       "4                                      NaN  ...  no rating         1   \n",
       "\n",
       "   spark_yn azure_yn  aws_yn  excel_yn  machine_learning_yn       job_simpl  \\\n",
       "0         0        0       1         0                    1  data scientist   \n",
       "1         0        0       0         0                    1  data scientist   \n",
       "2         0        0       0         0                    0  data scientist   \n",
       "3         0        0       0         0                    1  data scientist   \n",
       "4         0        0       1         0                    0  data scientist   \n",
       "\n",
       "   seniority  description_len  \n",
       "0     junior              359  \n",
       "1         na              267  \n",
       "2     Senior              589  \n",
       "3     junior              132  \n",
       "4         na              522  \n",
       "\n",
       "[5 rows x 23 columns]"
      ]
     },
     "execution_count": 2,
     "metadata": {},
     "output_type": "execute_result"
    }
   ],
   "source": [
    "df=pd.read_csv(\"salary_data_cleaned.csv\")\n",
    "df.head()"
   ]
  },
  {
   "cell_type": "code",
   "execution_count": 3,
   "metadata": {},
   "outputs": [
    {
     "data": {
      "text/plain": [
       "0      4.4\n",
       "1      4.0\n",
       "2      4.9\n",
       "3      NaN\n",
       "4      NaN\n",
       "      ... \n",
       "540    4.2\n",
       "541    4.7\n",
       "542    4.2\n",
       "543    4.1\n",
       "544    3.8\n",
       "Name: rating, Length: 545, dtype: float64"
      ]
     },
     "execution_count": 3,
     "metadata": {},
     "output_type": "execute_result"
    }
   ],
   "source": [
    "df['rating']=df['rating'].apply(lambda x: np.nan if x=='no rating' else float(x))\n",
    "df['rating']"
   ]
  },
  {
   "cell_type": "code",
   "execution_count": 4,
   "metadata": {},
   "outputs": [
    {
     "name": "stdout",
     "output_type": "stream",
     "text": [
      "<class 'pandas.core.frame.DataFrame'>\n",
      "RangeIndex: 545 entries, 0 to 544\n",
      "Data columns (total 23 columns):\n",
      " #   Column               Non-Null Count  Dtype  \n",
      "---  ------               --------------  -----  \n",
      " 0   Unnamed: 0           545 non-null    int64  \n",
      " 1   company              545 non-null    object \n",
      " 2   job title            545 non-null    object \n",
      " 3   location             545 non-null    object \n",
      " 4   job description      545 non-null    object \n",
      " 5   salary estimate      545 non-null    float64\n",
      " 6   company_size         494 non-null    object \n",
      " 7   company_type         494 non-null    object \n",
      " 8   company_sector       384 non-null    object \n",
      " 9   company_industry     384 non-null    object \n",
      " 10  company_founded      342 non-null    float64\n",
      " 11  company_revenue      494 non-null    object \n",
      " 12  hourly               545 non-null    int64  \n",
      " 13  rating               449 non-null    float64\n",
      " 14  python_yn            545 non-null    int64  \n",
      " 15  spark_yn             545 non-null    int64  \n",
      " 16  azure_yn             545 non-null    int64  \n",
      " 17  aws_yn               545 non-null    int64  \n",
      " 18  excel_yn             545 non-null    int64  \n",
      " 19  machine_learning_yn  545 non-null    int64  \n",
      " 20  job_simpl            545 non-null    object \n",
      " 21  seniority            545 non-null    object \n",
      " 22  description_len      545 non-null    int64  \n",
      "dtypes: float64(3), int64(9), object(11)\n",
      "memory usage: 98.1+ KB\n"
     ]
    }
   ],
   "source": [
    "df.info()"
   ]
  },
  {
   "cell_type": "markdown",
   "metadata": {},
   "source": [
    "### convert the hourly salaries into annual salaries\n",
    "\n",
    "- if a employee works full time so he works 40 hours per week which is approximately 2000 hour per year\n",
    "- so we wll muiltiply the hourly salary by 2000"
   ]
  },
  {
   "cell_type": "code",
   "execution_count": 5,
   "metadata": {},
   "outputs": [],
   "source": [
    "df[\"salary estimate\"]=df.apply(lambda x : x['salary estimate']*2000 if x['hourly']==1 else x['salary estimate'],axis=1)"
   ]
  },
  {
   "cell_type": "code",
   "execution_count": 6,
   "metadata": {},
   "outputs": [
    {
     "data": {
      "text/plain": [
       "13     130000.0\n",
       "21     125000.0\n",
       "27      65000.0\n",
       "34      80700.0\n",
       "40     130000.0\n",
       "41     120000.0\n",
       "48      89700.0\n",
       "53     190000.0\n",
       "55     100000.0\n",
       "57     190000.0\n",
       "74     170000.0\n",
       "76     190000.0\n",
       "82     105000.0\n",
       "84     170000.0\n",
       "85     105000.0\n",
       "93     170000.0\n",
       "103    140000.0\n",
       "104     56280.0\n",
       "109    125000.0\n",
       "114    115000.0\n",
       "125    155000.0\n",
       "126    180000.0\n",
       "141    130000.0\n",
       "144    125000.0\n",
       "164    130000.0\n",
       "167    125000.0\n",
       "189    125000.0\n",
       "209    130000.0\n",
       "212    125000.0\n",
       "232    130000.0\n",
       "235    125000.0\n",
       "255    130000.0\n",
       "258    125000.0\n",
       "277    130000.0\n",
       "286    125000.0\n",
       "301    130000.0\n",
       "310    125000.0\n",
       "325    130000.0\n",
       "334    125000.0\n",
       "349    130000.0\n",
       "372    130000.0\n",
       "395    130000.0\n",
       "418    130000.0\n",
       "441    130000.0\n",
       "464    130000.0\n",
       "487    130000.0\n",
       "514    130000.0\n",
       "538    130000.0\n",
       "Name: salary estimate, dtype: float64"
      ]
     },
     "execution_count": 6,
     "metadata": {},
     "output_type": "execute_result"
    }
   ],
   "source": [
    "df[df['hourly']==1]['salary estimate']"
   ]
  },
  {
   "cell_type": "code",
   "execution_count": 7,
   "metadata": {},
   "outputs": [
    {
     "data": {
      "text/html": [
       "<div>\n",
       "<style scoped>\n",
       "    .dataframe tbody tr th:only-of-type {\n",
       "        vertical-align: middle;\n",
       "    }\n",
       "\n",
       "    .dataframe tbody tr th {\n",
       "        vertical-align: top;\n",
       "    }\n",
       "\n",
       "    .dataframe thead th {\n",
       "        text-align: right;\n",
       "    }\n",
       "</style>\n",
       "<table border=\"1\" class=\"dataframe\">\n",
       "  <thead>\n",
       "    <tr style=\"text-align: right;\">\n",
       "      <th></th>\n",
       "      <th>Unnamed: 0</th>\n",
       "      <th>salary estimate</th>\n",
       "      <th>company_founded</th>\n",
       "      <th>hourly</th>\n",
       "      <th>rating</th>\n",
       "      <th>python_yn</th>\n",
       "      <th>spark_yn</th>\n",
       "      <th>azure_yn</th>\n",
       "      <th>aws_yn</th>\n",
       "      <th>excel_yn</th>\n",
       "      <th>machine_learning_yn</th>\n",
       "      <th>description_len</th>\n",
       "    </tr>\n",
       "  </thead>\n",
       "  <tbody>\n",
       "    <tr>\n",
       "      <th>count</th>\n",
       "      <td>545.00000</td>\n",
       "      <td>545.000000</td>\n",
       "      <td>342.000000</td>\n",
       "      <td>545.000000</td>\n",
       "      <td>449.000000</td>\n",
       "      <td>545.000000</td>\n",
       "      <td>545.000000</td>\n",
       "      <td>545.000000</td>\n",
       "      <td>545.000000</td>\n",
       "      <td>545.000000</td>\n",
       "      <td>545.000000</td>\n",
       "      <td>545.000000</td>\n",
       "    </tr>\n",
       "    <tr>\n",
       "      <th>mean</th>\n",
       "      <td>272.00000</td>\n",
       "      <td>113138.697248</td>\n",
       "      <td>1970.728070</td>\n",
       "      <td>0.088073</td>\n",
       "      <td>4.083964</td>\n",
       "      <td>0.858716</td>\n",
       "      <td>0.078899</td>\n",
       "      <td>0.110092</td>\n",
       "      <td>0.260550</td>\n",
       "      <td>0.280734</td>\n",
       "      <td>0.794495</td>\n",
       "      <td>429.069725</td>\n",
       "    </tr>\n",
       "    <tr>\n",
       "      <th>std</th>\n",
       "      <td>157.47222</td>\n",
       "      <td>24310.121688</td>\n",
       "      <td>42.168066</td>\n",
       "      <td>0.283662</td>\n",
       "      <td>0.567664</td>\n",
       "      <td>0.348635</td>\n",
       "      <td>0.269829</td>\n",
       "      <td>0.313292</td>\n",
       "      <td>0.439338</td>\n",
       "      <td>0.449771</td>\n",
       "      <td>0.404441</td>\n",
       "      <td>220.791838</td>\n",
       "    </tr>\n",
       "    <tr>\n",
       "      <th>min</th>\n",
       "      <td>0.00000</td>\n",
       "      <td>10013.000000</td>\n",
       "      <td>1799.000000</td>\n",
       "      <td>0.000000</td>\n",
       "      <td>1.000000</td>\n",
       "      <td>0.000000</td>\n",
       "      <td>0.000000</td>\n",
       "      <td>0.000000</td>\n",
       "      <td>0.000000</td>\n",
       "      <td>0.000000</td>\n",
       "      <td>0.000000</td>\n",
       "      <td>55.000000</td>\n",
       "    </tr>\n",
       "    <tr>\n",
       "      <th>25%</th>\n",
       "      <td>136.00000</td>\n",
       "      <td>102817.000000</td>\n",
       "      <td>1943.000000</td>\n",
       "      <td>0.000000</td>\n",
       "      <td>3.900000</td>\n",
       "      <td>1.000000</td>\n",
       "      <td>0.000000</td>\n",
       "      <td>0.000000</td>\n",
       "      <td>0.000000</td>\n",
       "      <td>0.000000</td>\n",
       "      <td>1.000000</td>\n",
       "      <td>267.000000</td>\n",
       "    </tr>\n",
       "    <tr>\n",
       "      <th>50%</th>\n",
       "      <td>272.00000</td>\n",
       "      <td>110783.000000</td>\n",
       "      <td>1982.000000</td>\n",
       "      <td>0.000000</td>\n",
       "      <td>4.200000</td>\n",
       "      <td>1.000000</td>\n",
       "      <td>0.000000</td>\n",
       "      <td>0.000000</td>\n",
       "      <td>0.000000</td>\n",
       "      <td>0.000000</td>\n",
       "      <td>1.000000</td>\n",
       "      <td>418.000000</td>\n",
       "    </tr>\n",
       "    <tr>\n",
       "      <th>75%</th>\n",
       "      <td>408.00000</td>\n",
       "      <td>123790.000000</td>\n",
       "      <td>1999.000000</td>\n",
       "      <td>0.000000</td>\n",
       "      <td>4.400000</td>\n",
       "      <td>1.000000</td>\n",
       "      <td>0.000000</td>\n",
       "      <td>0.000000</td>\n",
       "      <td>1.000000</td>\n",
       "      <td>1.000000</td>\n",
       "      <td>1.000000</td>\n",
       "      <td>589.000000</td>\n",
       "    </tr>\n",
       "    <tr>\n",
       "      <th>max</th>\n",
       "      <td>544.00000</td>\n",
       "      <td>191100.000000</td>\n",
       "      <td>2019.000000</td>\n",
       "      <td>1.000000</td>\n",
       "      <td>5.000000</td>\n",
       "      <td>1.000000</td>\n",
       "      <td>1.000000</td>\n",
       "      <td>1.000000</td>\n",
       "      <td>1.000000</td>\n",
       "      <td>1.000000</td>\n",
       "      <td>1.000000</td>\n",
       "      <td>2781.000000</td>\n",
       "    </tr>\n",
       "  </tbody>\n",
       "</table>\n",
       "</div>"
      ],
      "text/plain": [
       "       Unnamed: 0  salary estimate  company_founded      hourly      rating  \\\n",
       "count   545.00000       545.000000       342.000000  545.000000  449.000000   \n",
       "mean    272.00000    113138.697248      1970.728070    0.088073    4.083964   \n",
       "std     157.47222     24310.121688        42.168066    0.283662    0.567664   \n",
       "min       0.00000     10013.000000      1799.000000    0.000000    1.000000   \n",
       "25%     136.00000    102817.000000      1943.000000    0.000000    3.900000   \n",
       "50%     272.00000    110783.000000      1982.000000    0.000000    4.200000   \n",
       "75%     408.00000    123790.000000      1999.000000    0.000000    4.400000   \n",
       "max     544.00000    191100.000000      2019.000000    1.000000    5.000000   \n",
       "\n",
       "        python_yn    spark_yn    azure_yn      aws_yn    excel_yn  \\\n",
       "count  545.000000  545.000000  545.000000  545.000000  545.000000   \n",
       "mean     0.858716    0.078899    0.110092    0.260550    0.280734   \n",
       "std      0.348635    0.269829    0.313292    0.439338    0.449771   \n",
       "min      0.000000    0.000000    0.000000    0.000000    0.000000   \n",
       "25%      1.000000    0.000000    0.000000    0.000000    0.000000   \n",
       "50%      1.000000    0.000000    0.000000    0.000000    0.000000   \n",
       "75%      1.000000    0.000000    0.000000    1.000000    1.000000   \n",
       "max      1.000000    1.000000    1.000000    1.000000    1.000000   \n",
       "\n",
       "       machine_learning_yn  description_len  \n",
       "count           545.000000       545.000000  \n",
       "mean              0.794495       429.069725  \n",
       "std               0.404441       220.791838  \n",
       "min               0.000000        55.000000  \n",
       "25%               1.000000       267.000000  \n",
       "50%               1.000000       418.000000  \n",
       "75%               1.000000       589.000000  \n",
       "max               1.000000      2781.000000  "
      ]
     },
     "execution_count": 7,
     "metadata": {},
     "output_type": "execute_result"
    }
   ],
   "source": [
    "df.describe()"
   ]
  },
  {
   "cell_type": "code",
   "execution_count": 8,
   "metadata": {},
   "outputs": [
    {
     "data": {
      "text/plain": [
       "<AxesSubplot:>"
      ]
     },
     "execution_count": 8,
     "metadata": {},
     "output_type": "execute_result"
    },
    {
     "data": {
      "image/png": "[encoded data removed]",
      "text/plain": [
       "<Figure size 432x288 with 1 Axes>"
      ]
     },
     "metadata": {
      "needs_background": "light"
     },
     "output_type": "display_data"
    }
   ],
   "source": [
    "df['rating'].hist()"
   ]
  },
  {
   "cell_type": "code",
   "execution_count": 9,
   "metadata": {},
   "outputs": [
    {
     "data": {
      "text/plain": [
       "<AxesSubplot:>"
      ]
     },
     "execution_count": 9,
     "metadata": {},
     "output_type": "execute_result"
    },
    {
     "data": {
      "image/png": "[encoded data removed]",
      "text/plain": [
       "<Figure size 432x288 with 1 Axes>"
      ]
     },
     "metadata": {
      "needs_background": "light"
     },
     "output_type": "display_data"
    }
   ],
   "source": [
    "df['salary estimate'].hist()"
   ]
  },
  {
   "cell_type": "code",
   "execution_count": 10,
   "metadata": {},
   "outputs": [
    {
     "data": {
      "text/plain": [
       "<AxesSubplot:>"
      ]
     },
     "execution_count": 10,
     "metadata": {},
     "output_type": "execute_result"
    },
    {
     "data": {
      "image/png": "[encoded data removed]",
      "text/plain": [
       "<Figure size 432x288 with 1 Axes>"
      ]
     },
     "metadata": {
      "needs_background": "light"
     },
     "output_type": "display_data"
    }
   ],
   "source": [
    "df['description_len'].hist()"
   ]
  },
  {
   "cell_type": "code",
   "execution_count": 11,
   "metadata": {},
   "outputs": [
    {
     "data": {
      "text/plain": [
       "<AxesSubplot:>"
      ]
     },
     "execution_count": 11,
     "metadata": {},
     "output_type": "execute_result"
    },
    {
     "data": {
      "image/png": "[encoded data removed]",
      "text/plain": [
       "<Figure size 432x288 with 1 Axes>"
      ]
     },
     "metadata": {
      "needs_background": "light"
     },
     "output_type": "display_data"
    }
   ],
   "source": [
    "df.boxplot(column='rating')"
   ]
  },
  {
   "cell_type": "code",
   "execution_count": 13,
   "metadata": {},
   "outputs": [
    {
     "data": {
      "image/png": "[encoded data removed]",
      "text/plain": [
       "<Figure size 1440x360 with 2 Axes>"
      ]
     },
     "metadata": {
      "needs_background": "light"
     },
     "output_type": "display_data"
    }
   ],
   "source": [
    "fig,ax=plt.subplots(1,2,figsize=(20,5))\n",
    "\n",
    "ax[0].boxplot(data=df,x='salary estimate')\n",
    "ax[0].set_xticklabels(['salary'])\n",
    "\n",
    "ax[1].boxplot(data=df,x='description_len')\n",
    "ax[1].set_xticklabels(['description length'])\n",
    "\n",
    "plt.show()"
   ]
  },
  {
   "cell_type": "code",
   "execution_count": null,
   "metadata": {},
   "outputs": [],
   "source": []
  }
 ],
 "metadata": {
  "kernelspec": {
   "display_name": "Python 3.9.0 64-bit",
   "language": "python",
   "name": "python3"
  },
  "language_info": {
   "codemirror_mode": {
    "name": "ipython",
    "version": 3
   },
   "file_extension": ".py",
   "mimetype": "text/x-python",
   "name": "python",
   "nbconvert_exporter": "python",
   "pygments_lexer": "ipython3",
   "version": "3.9.0"
  },
  "orig_nbformat": 4,
  "vscode": {
   "interpreter": {
    "hash": "a2a32ab4a5f7cd90480dbabb09257fae3defe07d2d8fed2a66cce74ba4c49416"
   }
  }
 },
 "nbformat": 4,
 "nbformat_minor": 2
}
